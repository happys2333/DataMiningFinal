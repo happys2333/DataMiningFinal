{
 "cells": [
  {
   "cell_type": "code",
   "execution_count": null,
   "metadata": {
    "pycharm": {
     "name": "#%%\n"
    }
   },
   "outputs": [],
   "source": [
    "import numpy as np\n",
    "import pandas as pd\n",
    "import requests\n",
    "import json\n",
    "import matplotlib.pyplot as plt\n",
    "\n",
    "import matplotlib.dates as mdates"
   ]
  },
  {
   "cell_type": "markdown",
   "metadata": {},
   "source": [
    "### Get data from tencent news"
   ]
  },
  {
   "cell_type": "code",
   "execution_count": null,
   "metadata": {
    "pycharm": {
     "name": "#%%\n"
    }
   },
   "outputs": [],
   "source": [
    "\n",
    "url_shanghai = \"https://i.snssdk.com/forum/ncov_data/?data_type=%5B1%2C2%5D&city_code=%5B%22310000%22%5D&src_type=local&recent_days=150\"\n",
    "url_beijing = \"https://i.snssdk.com/forum/ncov_data/?data_type=%5B1%2C2%5D&city_code=%5B%22110000%22%5D&src_type=local&recent_days=150\"\n",
    "url_shenzhen = \"https://i.snssdk.com/forum/ncov_data/?data_type=%5B1%5D&city_code=%5B%22440300%22%5D&src_type=local&recent_days=150\"\n",
    "url_changchun = \"https://i.snssdk.com/forum/ncov_data/?data_type=%5B1%5D&city_code=%5B%22220100%22%5D&src_type=local&recent_days=150\"\n",
    "\n",
    "js_list = []\n",
    "# js_list.append(json.loads(requests.get(url_guangzhou).json()['ncov_city_data']['440100']))\n",
    "js_list.append(json.loads(requests.get(url_shenzhen).json()['ncov_city_data']['440300']))\n",
    "js_list.append(json.loads(requests.get(url_beijing).json()['ncov_city_data']['110000']))\n",
    "js_list.append(json.loads(requests.get(url_shanghai).json()['ncov_city_data']['310000']))\n",
    "# js_list.append(json.loads(requests.get(url_xian).json()['ncov_city_data']['610100']))\n",
    "js_list.append(json.loads(requests.get(url_changchun).json()['ncov_city_data']['220100']))\n",
    "# js_list.append(json.loads(requests.get(url_yanbian).json()['ncov_city_data']['222400']))\n",
    "\n",
    "\n",
    "\n"
   ]
  },
  {
   "cell_type": "markdown",
   "metadata": {},
   "source": [
    "* confirmedNum: 累计确诊人数\n",
    "* curesNum：累计治愈人数\n",
    "* deathsNum: 累计死亡人数\n",
    "* asymptomaticNum: 现有疑似病例\n"
   ]
  },
  {
   "cell_type": "code",
   "execution_count": null,
   "metadata": {},
   "outputs": [],
   "source": [
    "df_list = []\n",
    "for js in js_list:\n",
    "    df = pd.json_normalize(js,record_path='series', meta='cityName')\n",
    "    df = df.drop(['curesRatio','deathsRatio','confirmedIncr','curesIncr','deathsIncr', 'asymptomaticIncr','mainlandConfirmedIncr','treatingNum','mainlandTreatingNum','asymptomaticNum','deathsNum','cityName'],axis=1)\n",
    "    for i in range(95):\n",
    "        df.iloc[i,1] = df.iloc[i,1] - df.iloc[94,1]\n",
    "        df.iloc[i,2] = df.iloc[i,2] - df.iloc[94,2]\n",
    "    df_list.append(df)\n",
    "    print(df.isna().sum())\n",
    "df_list[3].drop('nonConfirmedIncrDays',axis=1,inplace=True)\n",
    "df_list[0]"
   ]
  },
  {
   "cell_type": "code",
   "execution_count": null,
   "metadata": {},
   "outputs": [],
   "source": [
    "for df in df_list:\n",
    "    df = df.sort_values(by='date')\n",
    "    df['date'] = pd.to_datetime(df['date']) \n",
    "    plt.figure(figsize=(16,9),dpi=100)\n",
    "    plt.gca().xaxis.set_major_formatter(mdates.DateFormatter('%m/%d'))\n",
    "    plt.gca().xaxis.set_major_locator(mdates.DayLocator(interval=5))\n",
    "    plt.gca().xaxis.set_minor_locator(mdates.DayLocator(interval=1))\n",
    "    plt.plot(df['date'] ,df['confirmedNum'])\n",
    "    plt.show()\n"
   ]
  },
  {
   "cell_type": "markdown",
   "metadata": {},
   "source": [
    "### 深圳，从2月14日开始选取42天数据"
   ]
  },
  {
   "cell_type": "code",
   "execution_count": null,
   "metadata": {},
   "outputs": [],
   "source": [
    "outputpath = 'shenzhen_data.csv'\n",
    "df = df_list[0].iloc[-42:]\n",
    "for i in range(42):\n",
    "    df.iloc[i,1] = df.iloc[i,1] - df.iloc[41,1]\n",
    "    df.iloc[i,2] = df.iloc[i,2] - df.iloc[41,2]\n",
    "df.to_csv(outputpath,sep=',',index=False,header=True)"
   ]
  },
  {
   "cell_type": "markdown",
   "metadata": {},
   "source": [
    "### 北京，选取最后42天数据"
   ]
  },
  {
   "cell_type": "code",
   "execution_count": null,
   "metadata": {},
   "outputs": [],
   "source": [
    "outputpath = 'beijing_data.csv'\n",
    "df = df_list[1].iloc[0:42]\n",
    "for i in range(42):\n",
    "    df.iloc[i,1] = df.iloc[i,1] - df.iloc[41,1]\n",
    "    df.iloc[i,2] = df.iloc[i,2] - df.iloc[41,2]\n",
    "df_list.append(df)\n",
    "df.to_csv(outputpath,sep=',',index=False,header=True)"
   ]
  },
  {
   "cell_type": "markdown",
   "metadata": {},
   "source": [
    "### 上海，从3月27日选取42天数据"
   ]
  },
  {
   "cell_type": "code",
   "execution_count": null,
   "metadata": {},
   "outputs": [],
   "source": [
    "outputpath = 'shanghai_data.csv'\n",
    "df = df_list[2].iloc[12:54]\n",
    "for i in range(42):\n",
    "    df.iloc[i,1] = df.iloc[i,1] - df.iloc[41,1]\n",
    "    df.iloc[i,2] = df.iloc[i,2] - df.iloc[41,2]\n",
    "df_list.append(df)\n",
    "df.to_csv(outputpath,sep=',',index=False,header=True)"
   ]
  },
  {
   "cell_type": "markdown",
   "metadata": {},
   "source": [
    "### 长春，从3月11日开始选取42天数据"
   ]
  },
  {
   "cell_type": "code",
   "execution_count": null,
   "metadata": {},
   "outputs": [],
   "source": [
    "outputpath = 'changchun_data.csv'\n",
    "df = df_list[3].iloc[28:70]\n",
    "for i in range(42):\n",
    "    df.iloc[i,1] = df.iloc[i,1] - df.iloc[41,1]\n",
    "    df.iloc[i,2] = df.iloc[i,2] - df.iloc[41,2]\n",
    "df_list.append(df)\n",
    "df.to_csv(outputpath,sep=',',index=False,header=True)"
   ]
  }
 ],
 "metadata": {
  "interpreter": {
   "hash": "2469a70536e4d2335a2ea8907942d0699c37342a371ac185bdb5b0aa6f073890"
  },
  "kernelspec": {
   "display_name": "Python 3.9.10 64-bit",
   "language": "python",
   "name": "python3"
  },
  "language_info": {
   "codemirror_mode": {
    "name": "ipython",
    "version": 3
   },
   "file_extension": ".py",
   "mimetype": "text/x-python",
   "name": "python",
   "nbconvert_exporter": "python",
   "pygments_lexer": "ipython3",
   "version": "3.9.10"
  }
 },
 "nbformat": 4,
 "nbformat_minor": 1
}
